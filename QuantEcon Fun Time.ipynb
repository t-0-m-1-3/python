{
 "cells": [
  {
   "cell_type": "code",
   "execution_count": 1,
   "metadata": {
    "collapsed": false
   },
   "outputs": [
    {
     "name": "stdout",
     "output_type": "stream",
     "text": [
      "Collecting quantecon\n",
      "  Downloading quantecon-0.3.7.tar.gz (106kB)\n",
      "\u001b[K    100% |████████████████████████████████| 112kB 2.2MB/s \n",
      "\u001b[?25hBuilding wheels for collected packages: quantecon\n",
      "  Running setup.py bdist_wheel for quantecon ... \u001b[?25l-\b \bdone\n",
      "\u001b[?25h  Stored in directory: /home/t0m/.cache/pip/wheels/4b/bf/4e/ee4cabe90ccab383ae9daecb2bb320fce115654a7bd0bcc2d8\n",
      "Successfully built quantecon\n",
      "Installing collected packages: quantecon\n",
      "Successfully installed quantecon-0.3.7\n"
     ]
    }
   ],
   "source": [
    "!pip3 install quantecon"
   ]
  },
  {
   "cell_type": "code",
   "execution_count": null,
   "metadata": {
    "collapsed": true
   },
   "outputs": [],
   "source": []
  }
 ],
 "metadata": {
  "kernelspec": {
   "display_name": "Python 3",
   "language": "python",
   "name": "python3"
  },
  "language_info": {
   "codemirror_mode": {
    "name": "ipython",
    "version": 3
   },
   "file_extension": ".py",
   "mimetype": "text/x-python",
   "name": "python",
   "nbconvert_exporter": "python",
   "pygments_lexer": "ipython3",
   "version": "3.6.3"
  }
 },
 "nbformat": 4,
 "nbformat_minor": 2
}
